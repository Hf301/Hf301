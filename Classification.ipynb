{
  "cells": [
    {
      "cell_type": "markdown",
      "metadata": {
        "id": "view-in-github",
        "colab_type": "text"
      },
      "source": [
        "<a href=\"https://colab.research.google.com/github/Hf301/Hf301/blob/main/Classification.ipynb\" target=\"_parent\"><img src=\"https://colab.research.google.com/assets/colab-badge.svg\" alt=\"Open In Colab\"/></a>"
      ]
    },
    {
      "cell_type": "markdown",
      "metadata": {
        "id": "fLAsZpEeIsyk"
      },
      "source": [
        "## Классификация"
      ]
    },
    {
      "cell_type": "markdown",
      "metadata": {
        "id": "exzgWs8TGVwz"
      },
      "source": [
        "Датасет bodyPerformance\n",
        "\n",
        "Описание:\n",
        "\n",
        "https://www.kaggle.com/datasets/kukuroo3/body-performance-data"
      ]
    },
    {
      "cell_type": "code",
      "execution_count": null,
      "metadata": {
        "id": "HiRlpeObIw30",
        "colab": {
          "base_uri": "https://localhost:8080/"
        },
        "outputId": "cdb72d16-a35d-436f-c46a-acd5eeea1b9d"
      },
      "outputs": [
        {
          "output_type": "stream",
          "name": "stdout",
          "text": [
            "Drive already mounted at /content/drive; to attempt to forcibly remount, call drive.mount(\"/content/drive\", force_remount=True).\n"
          ]
        }
      ],
      "source": [
        "from google.colab import drive\n",
        "drive.mount('/content/drive')\n",
        "path = 'drive/MyDrive/'"
      ]
    },
    {
      "cell_type": "code",
      "execution_count": null,
      "metadata": {
        "id": "8icMo8BR8eJL"
      },
      "outputs": [],
      "source": [
        "df = pd.read_csv('/content/drive/MyDrive/Classroom/Школа DS 12 KT/bodyPerformance.csv')"
      ]
    },
    {
      "cell_type": "code",
      "execution_count": null,
      "metadata": {
        "id": "yKvrcXtB3AQf"
      },
      "outputs": [],
      "source": [
        "df = df.replace({'M':1, 'F':0})\n",
        "df2 = pd.get_dummies(df, columns=df.select_dtypes(object).columns,drop_first=False)"
      ]
    },
    {
      "cell_type": "markdown",
      "metadata": {
        "id": "mIT8KyvrGFI7"
      },
      "source": [
        "### Определение гендера"
      ]
    },
    {
      "cell_type": "code",
      "execution_count": null,
      "metadata": {
        "id": "Mhj3I_MuBbFy",
        "colab": {
          "base_uri": "https://localhost:8080/"
        },
        "outputId": "2d214a96-4192-43ab-ec51-3b839bac6fac"
      },
      "outputs": [
        {
          "output_type": "stream",
          "name": "stdout",
          "text": [
            "0.9880552444942142\n",
            "MSE  is 0.011944755505785741\n",
            "MAE  is 18491823777930.375\n",
            "R2   is 0.9484001444564825\n",
            "RMSE is 0.10929206515472997\n"
          ]
        }
      ],
      "source": [
        "from sklearn.neighbors import KNeighborsClassifier\n",
        "from sklearn.linear_model import LogisticRegression\n",
        "from sklearn.model_selection import train_test_split\n",
        "from sklearn.preprocessing import StandardScaler\n",
        "from sklearn import metrics\n",
        "from sklearn.metrics import accuracy_score, precision_score, recall_score, f1_score, r2_score, mean_squared_error, mean_absolute_percentage_error\n",
        "X = df2.drop(columns=['gender'])\n",
        "y = df2['gender']\n",
        "X_train, X_valid, y_train, y_valid = train_test_split(X, y, test_size=0.2, random_state=13, stratify = y)\n",
        "sc = StandardScaler() \n",
        "X_train = sc.fit_transform(X_train)\n",
        "X_valid = sc.transform(X_valid)\n",
        "model_LR = LogisticRegression()\n",
        "model_LR.fit(X_train, y_train)\n",
        "y_pred_test_LR = model_LR.predict(X_valid)\n",
        "print((y_pred_test_LR == y_valid).sum() / len(y_valid))\n",
        "print(\"MSE  is \" + str(mean_squared_error(y_pred_test_LR,y_valid)))\n",
        "print('MAPE  is ' + str(mean_absolute_percentage_error(y_pred_test_LR, y_valid))) # !?!\n",
        "print(\"R2   is \" + str(r2_score(y_pred_test_LR,y_valid)))\n",
        "print(\"RMSE is \" + str(np.sqrt(mean_squared_error(y_pred_test_LR,y_valid))))"
      ]
    },
    {
      "cell_type": "markdown",
      "metadata": {
        "id": "9m0SK6JzKHof"
      },
      "source": [
        "### Определение класса"
      ]
    },
    {
      "cell_type": "code",
      "execution_count": null,
      "metadata": {
        "id": "dgvhCM7HKDWu"
      },
      "outputs": [],
      "source": [
        "X = df.drop(columns=['class']) # укажите новый таргет\n",
        "y = df['class']\n",
        "\n",
        "X_train, X_valid, y_train, y_valid = train_test_split(X, y, test_size=0.2, random_state=13)"
      ]
    },
    {
      "cell_type": "code",
      "source": [
        "stdsc = StandardScaler()\n",
        "X_train_std = stdsc.fit_transform(X_train)\n",
        "X_test_std = stdsc.transform(X_valid)"
      ],
      "metadata": {
        "id": "mkNyqnj4yBFx"
      },
      "execution_count": null,
      "outputs": []
    },
    {
      "cell_type": "code",
      "source": [
        "lr = LogisticRegression(C=100, random_state=0, max_iter=1000)\n",
        "lr.fit(X_train_std, y_train)\n",
        "y_pred_test_LR = lr.predict(X_test_std)\n",
        "print(sum(y_pred_test_LR != y_valid))\n",
        "print((y_pred_test_LR == y_valid).sum() / len(y_valid))"
      ],
      "metadata": {
        "colab": {
          "base_uri": "https://localhost:8080/"
        },
        "id": "OrAuxGx1yA41",
        "outputId": "4123016b-740c-4986-af81-d0850817866b"
      },
      "execution_count": null,
      "outputs": [
        {
          "output_type": "stream",
          "name": "stdout",
          "text": [
            "1029\n",
            "0.6159014557670772\n"
          ]
        }
      ]
    },
    {
      "cell_type": "code",
      "source": [
        "model_knn = KNeighborsClassifier(3)\n",
        "model_knn.fit(X_train, y_train)\n",
        "\n",
        "y_pred_train_KNN = model_knn.predict(X_train)\n",
        "y_pred_test_KNN  = model_knn.predict(X_valid)\n",
        "print(sum(y_pred_test_KNN != y_valid))\n",
        "print('TEST: '+ str(accuracy_score(y_valid, y_pred_test_KNN)))\n",
        "print('TRAIN: '+ str(accuracy_score(y_train, y_pred_train_KNN)))"
      ],
      "metadata": {
        "colab": {
          "base_uri": "https://localhost:8080/"
        },
        "id": "mlAnKUipxTL3",
        "outputId": "8f2c27e3-fd9e-4975-f412-8fa3e5a42b7b"
      },
      "execution_count": null,
      "outputs": [
        {
          "output_type": "stream",
          "name": "stdout",
          "text": [
            "1218\n",
            "TEST: 0.5453527435610303\n",
            "TRAIN: 0.7426731379503454\n"
          ]
        }
      ]
    }
  ],
  "metadata": {
    "colab": {
      "provenance": [],
      "include_colab_link": true
    },
    "kernelspec": {
      "display_name": "Python 3",
      "name": "python3"
    },
    "language_info": {
      "name": "python"
    }
  },
  "nbformat": 4,
  "nbformat_minor": 0
}